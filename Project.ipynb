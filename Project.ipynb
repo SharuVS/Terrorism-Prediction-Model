{
 "cells": [
  {
   "cell_type": "code",
   "execution_count": 43,
   "metadata": {
    "collapsed": true,
    "deletable": true,
    "editable": true
   },
   "outputs": [],
   "source": [
    "import os\n",
    "import numpy as np\n",
    "from collections import Counter\n",
    "from sklearn.model_selection import train_test_split\n",
    "from sklearn.model_selection import train_test_split\n",
    "from sklearn.naive_bayes import MultinomialNB\n",
    "from sklearn.metrics import confusion_matrix\n",
    "from sklearn.svm import LinearSVC\n",
    "import codecs\n",
    "from sklearn.preprocessing import label_binarize\n",
    "from sklearn.multiclass import OneVsRestClassifier\n",
    "from scipy import interp"
   ]
  },
  {
   "cell_type": "code",
   "execution_count": 44,
   "metadata": {
    "collapsed": true,
    "deletable": true,
    "editable": true
   },
   "outputs": [],
   "source": [
    "def read_claims(root_dir):\n",
    "    attacks_dirs = [os.path.join(root_dir,f) for f in os.listdir(root_dir)]    \n",
    "    all_words = []       \n",
    "    for attacks_dir in attacks_dirs:\n",
    "        dirs = [os.path.join(attacks_dir,f) for f in os.listdir(attacks_dir)]\n",
    "        for d in dirs:\n",
    "            attacks = [os.path.join(d,f) for f in os.listdir(d)]\n",
    "            for attack in attacks:\n",
    "                with codecs.open(attack, \"r\",encoding='utf-8', errors='ignore') as m:\n",
    "                    for line in m:\n",
    "                        words = line.split()\n",
    "                        all_words += words\n",
    "    claim = Counter(all_words)\n",
    "    list_to_remove = claim.keys()\n",
    "    \n",
    "    for item in list(list_to_remove):\n",
    "        if item.isalpha() == False: \n",
    "            del claim[item]\n",
    "        elif len(item) == 1:\n",
    "            del claim[item]\n",
    "    claim = claim.most_common(3000)\n",
    "    \n",
    "    np.save('claims.npy',claim) \n",
    "    \n",
    "    return claim"
   ]
  },
  {
   "cell_type": "code",
   "execution_count": 45,
   "metadata": {
    "collapsed": true,
    "deletable": true,
    "editable": true
   },
   "outputs": [],
   "source": [
    "def extract_features(root_dir): \n",
    "    attacks_dirs = [os.path.join(root_dir,f) for f in os.listdir(root_dir)]  \n",
    "    docID = 0\n",
    "    features_matrix = np.zeros((33716,3000))\n",
    "    train_labels = np.zeros(33716)\n",
    "    for attack_dir in attacks_dirs:\n",
    "        dirs = [os.path.join(attack_dir,f) for f in os.listdir(attack_dir)]\n",
    "        for d in dirs:\n",
    "            attacks = [os.path.join(d,f) for f in os.listdir(d)]\n",
    "            for attack in attacks:\n",
    "                with codecs.open(attack, \"r\",encoding='utf-8', errors='ignore') as m:\n",
    "                    all_words = []\n",
    "                    for line in m:\n",
    "                        words = line.split()\n",
    "                        all_words += words\n",
    "                    for word in all_words:\n",
    "                        wordID = 0\n",
    "                        for i,d in enumerate(Claim):\n",
    "                            if d[0] == word:\n",
    "                                wordID = i\n",
    "                                features_matrix[docID,wordID] = all_words.count(word)\n",
    "                train_labels[docID] = int(attack.split(\".\")[-2] == 'Claim')\n",
    "                train_labels[docID] = int(attack.split(\".\")[-2] == 'NoClaim')\n",
    "                docID = docID + 1                \n",
    "    return features_matrix,train_labels"
   ]
  },
  {
   "cell_type": "code",
   "execution_count": 46,
   "metadata": {
    "collapsed": false,
    "deletable": true,
    "editable": true
   },
   "outputs": [],
   "source": [
    "#Create a dictionary of words with its frequency\n",
    "root_dir = 'train'\n",
    "Claim = read_claims(root_dir)"
   ]
  },
  {
   "cell_type": "code",
   "execution_count": 47,
   "metadata": {
    "collapsed": false,
    "deletable": true,
    "editable": true
   },
   "outputs": [],
   "source": [
    "#Prepare feature vectors per training mail and its labels\n",
    "features_matrix,labels = extract_features(root_dir)\n",
    "np.save('attacks_features_matrix.npy',features_matrix)\n",
    "np.save('attacks_labels.npy',labels)"
   ]
  },
  {
   "cell_type": "code",
   "execution_count": 48,
   "metadata": {
    "collapsed": false,
    "deletable": true,
    "editable": true
   },
   "outputs": [
    {
     "name": "stdout",
     "output_type": "stream",
     "text": [
      "(33716, 3000)\n"
     ]
    }
   ],
   "source": [
    "print (features_matrix.shape)"
   ]
  },
  {
   "cell_type": "code",
   "execution_count": 49,
   "metadata": {
    "collapsed": false,
    "deletable": true,
    "editable": true
   },
   "outputs": [
    {
     "name": "stdout",
     "output_type": "stream",
     "text": [
      "(33716,)\n"
     ]
    }
   ],
   "source": [
    "print (labels.shape)"
   ]
  },
  {
   "cell_type": "code",
   "execution_count": 50,
   "metadata": {
    "collapsed": false,
    "deletable": true,
    "editable": true
   },
   "outputs": [
    {
     "name": "stdout",
     "output_type": "stream",
     "text": [
      "33716 0\n"
     ]
    }
   ],
   "source": [
    "print (sum(labels==0),sum(labels==1))"
   ]
  },
  {
   "cell_type": "code",
   "execution_count": 51,
   "metadata": {
    "collapsed": true,
    "deletable": true,
    "editable": true
   },
   "outputs": [],
   "source": [
    "X_train, X_test, y_train, y_test = train_test_split(features_matrix, labels, test_size=0.30)"
   ]
  },
  {
   "cell_type": "code",
   "execution_count": 52,
   "metadata": {
    "collapsed": true,
    "deletable": true,
    "editable": true
   },
   "outputs": [],
   "source": [
    "model1 = LinearSVC()\n",
    "model2 = MultinomialNB()"
   ]
  },
  {
   "cell_type": "code",
   "execution_count": 34,
   "metadata": {
    "collapsed": true,
    "deletable": true,
    "editable": true
   },
   "outputs": [],
   "source": [
    "result1 = model1.predict(X_test)\n",
    "result2 = model2.predict(X_test)"
   ]
  },
  {
   "cell_type": "code",
   "execution_count": 35,
   "metadata": {
    "collapsed": false,
    "deletable": true,
    "editable": true
   },
   "outputs": [
    {
     "name": "stdout",
     "output_type": "stream",
     "text": [
      "[[4805  127]\n",
      " [  59 5124]]\n"
     ]
    }
   ],
   "source": [
    "print (confusion_matrix(y_test, result1))"
   ]
  },
  {
   "cell_type": "code",
   "execution_count": 36,
   "metadata": {
    "collapsed": false,
    "deletable": true,
    "editable": true
   },
   "outputs": [
    {
     "name": "stdout",
     "output_type": "stream",
     "text": [
      "[[4778  154]\n",
      " [ 116 5067]]\n"
     ]
    }
   ],
   "source": [
    "print (confusion_matrix(y_test, result2))"
   ]
  },
  {
   "cell_type": "code",
   "execution_count": 40,
   "metadata": {
    "collapsed": true,
    "deletable": true,
    "editable": true
   },
   "outputs": [],
   "source": [
    "import matplotlib.pyplot as plt\n",
    "from matplotlib import style\n",
    "style.use(\"ggplot\")\n",
    "from sklearn import svm"
   ]
  },
  {
   "cell_type": "code",
   "execution_count": 41,
   "metadata": {
    "collapsed": false,
    "deletable": true,
    "editable": true
   },
   "outputs": [
    {
     "name": "stderr",
     "output_type": "stream",
     "text": [
      "C:\\Users\\Saranya\\Anaconda3\\lib\\site-packages\\matplotlib\\axes\\_axes.py:519: UserWarning: No labelled objects found. Use label='...' kwarg on individual plots.\n",
      "  warnings.warn(\"No labelled objects found. \"\n"
     ]
    },
    {
     "data": {
      "image/png": "[encoded data removed]",
      "text/plain": [
       "<matplotlib.figure.Figure at 0x26f42dc9f28>"
      ]
     },
     "metadata": {},
     "output_type": "display_data"
    }
   ],
   "source": [
    "plt.scatter(X_train[:, 0], X_train[:, 1], c = y_train)\n",
    "plt.legend()\n",
    "plt.show()"
   ]
  }
 ],
 "metadata": {
  "kernelspec": {
   "display_name": "Python 3",
   "language": "python",
   "name": "python3"
  },
  "language_info": {
   "codemirror_mode": {
    "name": "ipython",
    "version": 3
   },
   "file_extension": ".py",
   "mimetype": "text/x-python",
   "name": "python",
   "nbconvert_exporter": "python",
   "pygments_lexer": "ipython3",
   "version": "3.5.3"
  }
 },
 "nbformat": 4,
 "nbformat_minor": 0
}
